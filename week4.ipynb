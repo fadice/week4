{
 "cells": [
  {
   "cell_type": "code",
   "execution_count": 14,
   "id": "35dd90e7",
   "metadata": {},
   "outputs": [],
   "source": [
    "# IMPORTING LIBRARIES\n",
    "import numpy as np\n",
    "import pandas as pd\n",
    "import matplotlib.pyplot as plt\n",
    "import seaborn as sb\n",
    "\n",
    "from sklearn.model_selection import train_test_split\n",
    "from sklearn.preprocessing import MinMaxScaler\n",
    "from sklearn import metrics\n",
    "from sklearn.svm import SVC\n",
    "from sklearn.linear_model import LogisticRegression\n"
   ]
  },
  {
   "cell_type": "code",
   "execution_count": 19,
   "id": "fafbdfbc",
   "metadata": {},
   "outputs": [
    {
     "data": {
      "text/html": [
       "<div>\n",
       "<style scoped>\n",
       "    .dataframe tbody tr th:only-of-type {\n",
       "        vertical-align: middle;\n",
       "    }\n",
       "\n",
       "    .dataframe tbody tr th {\n",
       "        vertical-align: top;\n",
       "    }\n",
       "\n",
       "    .dataframe thead th {\n",
       "        text-align: right;\n",
       "    }\n",
       "</style>\n",
       "<table border=\"1\" class=\"dataframe\">\n",
       "  <thead>\n",
       "    <tr style=\"text-align: right;\">\n",
       "      <th></th>\n",
       "      <th>StudyID</th>\n",
       "      <th>A_Date</th>\n",
       "      <th>Diagnosis__Admitting</th>\n",
       "      <th>DX1</th>\n",
       "      <th>DX2</th>\n",
       "      <th>DX3</th>\n",
       "      <th>DX4</th>\n",
       "      <th>Disposition_Status</th>\n",
       "      <th>heat_group</th>\n",
       "      <th>heat_syn_cramps</th>\n",
       "      <th>...</th>\n",
       "      <th>POSITION</th>\n",
       "      <th>ADMITTING_heat</th>\n",
       "      <th>LOS</th>\n",
       "      <th>AGE_GROUP</th>\n",
       "      <th>heat_stroke</th>\n",
       "      <th>RHABDO</th>\n",
       "      <th>AGE_4_GROUP</th>\n",
       "      <th>AGE_6_GROUP</th>\n",
       "      <th>LOS_3_GROUP</th>\n",
       "      <th>STATE</th>\n",
       "    </tr>\n",
       "  </thead>\n",
       "  <tbody>\n",
       "    <tr>\n",
       "      <th>0</th>\n",
       "      <td>CH000357</td>\n",
       "      <td>1/27/2016</td>\n",
       "      <td>NaN</td>\n",
       "      <td>M6282</td>\n",
       "      <td>E8342</td>\n",
       "      <td>R748</td>\n",
       "      <td>Z87891</td>\n",
       "      <td>1</td>\n",
       "      <td>5.0</td>\n",
       "      <td>NaN</td>\n",
       "      <td>...</td>\n",
       "      <td>1</td>\n",
       "      <td>7</td>\n",
       "      <td>2</td>\n",
       "      <td>1</td>\n",
       "      <td>0</td>\n",
       "      <td>1</td>\n",
       "      <td>1</td>\n",
       "      <td>2</td>\n",
       "      <td>2</td>\n",
       "      <td>19</td>\n",
       "    </tr>\n",
       "    <tr>\n",
       "      <th>1</th>\n",
       "      <td>CH006327</td>\n",
       "      <td>6/3/2015</td>\n",
       "      <td>NaN</td>\n",
       "      <td>486</td>\n",
       "      <td>7904</td>\n",
       "      <td>2768</td>\n",
       "      <td>27652</td>\n",
       "      <td>1</td>\n",
       "      <td>NaN</td>\n",
       "      <td>NaN</td>\n",
       "      <td>...</td>\n",
       "      <td>2</td>\n",
       "      <td>7</td>\n",
       "      <td>3</td>\n",
       "      <td>3</td>\n",
       "      <td>0</td>\n",
       "      <td>0</td>\n",
       "      <td>4</td>\n",
       "      <td>5</td>\n",
       "      <td>4</td>\n",
       "      <td>19</td>\n",
       "    </tr>\n",
       "    <tr>\n",
       "      <th>2</th>\n",
       "      <td>CH003029</td>\n",
       "      <td>5/14/2016</td>\n",
       "      <td>NaN</td>\n",
       "      <td>M6282</td>\n",
       "      <td>N179</td>\n",
       "      <td>E860</td>\n",
       "      <td>R740</td>\n",
       "      <td>1</td>\n",
       "      <td>5.0</td>\n",
       "      <td>NaN</td>\n",
       "      <td>...</td>\n",
       "      <td>1</td>\n",
       "      <td>7</td>\n",
       "      <td>2</td>\n",
       "      <td>1</td>\n",
       "      <td>0</td>\n",
       "      <td>1</td>\n",
       "      <td>1</td>\n",
       "      <td>1</td>\n",
       "      <td>4</td>\n",
       "      <td>19</td>\n",
       "    </tr>\n",
       "    <tr>\n",
       "      <th>3</th>\n",
       "      <td>CH002437</td>\n",
       "      <td>9/17/2014</td>\n",
       "      <td>NaN</td>\n",
       "      <td>25541</td>\n",
       "      <td>2761</td>\n",
       "      <td>2767</td>\n",
       "      <td>4589</td>\n",
       "      <td>1</td>\n",
       "      <td>NaN</td>\n",
       "      <td>NaN</td>\n",
       "      <td>...</td>\n",
       "      <td>1</td>\n",
       "      <td>7</td>\n",
       "      <td>2</td>\n",
       "      <td>2</td>\n",
       "      <td>0</td>\n",
       "      <td>0</td>\n",
       "      <td>3</td>\n",
       "      <td>4</td>\n",
       "      <td>3</td>\n",
       "      <td>19</td>\n",
       "    </tr>\n",
       "    <tr>\n",
       "      <th>4</th>\n",
       "      <td>CH006972</td>\n",
       "      <td>1/20/2016</td>\n",
       "      <td>NaN</td>\n",
       "      <td>M6282</td>\n",
       "      <td>N179</td>\n",
       "      <td>N141</td>\n",
       "      <td>T50995A</td>\n",
       "      <td>1</td>\n",
       "      <td>5.0</td>\n",
       "      <td>NaN</td>\n",
       "      <td>...</td>\n",
       "      <td>2</td>\n",
       "      <td>7</td>\n",
       "      <td>2</td>\n",
       "      <td>3</td>\n",
       "      <td>0</td>\n",
       "      <td>1</td>\n",
       "      <td>3</td>\n",
       "      <td>4</td>\n",
       "      <td>4</td>\n",
       "      <td>19</td>\n",
       "    </tr>\n",
       "  </tbody>\n",
       "</table>\n",
       "<p>5 rows × 27 columns</p>\n",
       "</div>"
      ],
      "text/plain": [
       "    StudyID     A_Date Diagnosis__Admitting    DX1    DX2   DX3      DX4  \\\n",
       "0  CH000357  1/27/2016                  NaN  M6282  E8342  R748   Z87891   \n",
       "1  CH006327   6/3/2015                  NaN    486   7904  2768    27652   \n",
       "2  CH003029  5/14/2016                  NaN  M6282   N179  E860     R740   \n",
       "3  CH002437  9/17/2014                  NaN  25541   2761  2767     4589   \n",
       "4  CH006972  1/20/2016                  NaN  M6282   N179  N141  T50995A   \n",
       "\n",
       "   Disposition_Status  heat_group  heat_syn_cramps  ...  POSITION  \\\n",
       "0                   1         5.0              NaN  ...         1   \n",
       "1                   1         NaN              NaN  ...         2   \n",
       "2                   1         5.0              NaN  ...         1   \n",
       "3                   1         NaN              NaN  ...         1   \n",
       "4                   1         5.0              NaN  ...         2   \n",
       "\n",
       "   ADMITTING_heat  LOS  AGE_GROUP  heat_stroke  RHABDO  AGE_4_GROUP  \\\n",
       "0               7    2          1            0       1            1   \n",
       "1               7    3          3            0       0            4   \n",
       "2               7    2          1            0       1            1   \n",
       "3               7    2          2            0       0            3   \n",
       "4               7    2          3            0       1            3   \n",
       "\n",
       "   AGE_6_GROUP  LOS_3_GROUP  STATE  \n",
       "0            2            2     19  \n",
       "1            5            4     19  \n",
       "2            1            4     19  \n",
       "3            4            3     19  \n",
       "4            4            4     19  \n",
       "\n",
       "[5 rows x 27 columns]"
      ]
     },
     "execution_count": 19,
     "metadata": {},
     "output_type": "execute_result"
    }
   ],
   "source": [
    "heat_trainner = pd.read_csv(\"C:/Users/fadic/gitproject/data/heat_trainer.csv\")\n",
    "# printing the first 5 rows of dataset\n",
    "heat_trainner.head()"
   ]
  },
  {
   "cell_type": "code",
   "execution_count": 20,
   "id": "fb508d30",
   "metadata": {},
   "outputs": [
    {
     "data": {
      "text/plain": [
       "7255"
      ]
     },
     "execution_count": 20,
     "metadata": {},
     "output_type": "execute_result"
    }
   ],
   "source": [
    "#find total observations in dataset\n",
    "len(heat_trainner.index)"
   ]
  },
  {
   "cell_type": "code",
   "execution_count": 21,
   "id": "e05f89b0",
   "metadata": {},
   "outputs": [
    {
     "data": {
      "text/plain": [
       "['StudyID',\n",
       " 'A_Date',\n",
       " 'Diagnosis__Admitting',\n",
       " 'DX1',\n",
       " 'DX2',\n",
       " 'DX3',\n",
       " 'DX4',\n",
       " 'Disposition_Status',\n",
       " 'heat_group',\n",
       " 'heat_syn_cramps',\n",
       " 'heat_exh',\n",
       " 'heat_other',\n",
       " 'HYPONATREMIA',\n",
       " 'FY',\n",
       " 'SEX',\n",
       " 'BRANCH',\n",
       " 'RACE_CODE',\n",
       " 'POSITION',\n",
       " 'ADMITTING_heat',\n",
       " 'LOS',\n",
       " 'AGE_GROUP',\n",
       " 'heat_stroke',\n",
       " 'RHABDO',\n",
       " 'AGE_4_GROUP',\n",
       " 'AGE_6_GROUP',\n",
       " 'LOS_3_GROUP',\n",
       " 'STATE']"
      ]
     },
     "execution_count": 21,
     "metadata": {},
     "output_type": "execute_result"
    }
   ],
   "source": [
    "# getting the columns of the dataset\n",
    "columns = list(heat_trainner.columns)\n",
    "columns"
   ]
  },
  {
   "cell_type": "code",
   "execution_count": 24,
   "id": "c9665486",
   "metadata": {},
   "outputs": [
    {
     "name": "stdout",
     "output_type": "stream",
     "text": [
      "<class 'pandas.core.frame.DataFrame'>\n",
      "RangeIndex: 7255 entries, 0 to 7254\n",
      "Data columns (total 27 columns):\n",
      " #   Column                Non-Null Count  Dtype  \n",
      "---  ------                --------------  -----  \n",
      " 0   StudyID               7255 non-null   object \n",
      " 1   A_Date                7255 non-null   object \n",
      " 2   Diagnosis__Admitting  1660 non-null   object \n",
      " 3   DX1                   7255 non-null   object \n",
      " 4   DX2                   6721 non-null   object \n",
      " 5   DX3                   5710 non-null   object \n",
      " 6   DX4                   4587 non-null   object \n",
      " 7   Disposition_Status    7255 non-null   int64  \n",
      " 8   heat_group            2118 non-null   float64\n",
      " 9   heat_syn_cramps       133 non-null    float64\n",
      " 10  heat_exh              430 non-null    float64\n",
      " 11  heat_other            489 non-null    float64\n",
      " 12  HYPONATREMIA          1052 non-null   float64\n",
      " 13  FY                    7255 non-null   int64  \n",
      " 14  SEX                   7255 non-null   int64  \n",
      " 15  BRANCH                7255 non-null   int64  \n",
      " 16  RACE_CODE             7255 non-null   int64  \n",
      " 17  POSITION              7255 non-null   int64  \n",
      " 18  ADMITTING_heat        7255 non-null   int64  \n",
      " 19  LOS                   7255 non-null   int64  \n",
      " 20  AGE_GROUP             7255 non-null   int64  \n",
      " 21  heat_stroke           7255 non-null   int64  \n",
      " 22  RHABDO                7255 non-null   int64  \n",
      " 23  AGE_4_GROUP           7255 non-null   int64  \n",
      " 24  AGE_6_GROUP           7255 non-null   int64  \n",
      " 25  LOS_3_GROUP           7255 non-null   int64  \n",
      " 26  STATE                 7255 non-null   int64  \n",
      "dtypes: float64(5), int64(15), object(7)\n",
      "memory usage: 1.5+ MB\n"
     ]
    }
   ],
   "source": [
    "#Check data with info function\n",
    "heat_trainner.info()"
   ]
  },
  {
   "cell_type": "code",
   "execution_count": 25,
   "id": "b4d5a918",
   "metadata": {},
   "outputs": [
    {
     "name": "stdout",
     "output_type": "stream",
     "text": [
      "Heat Injuries : (7255, 27)\n"
     ]
    }
   ],
   "source": [
    "print(\"Heat Injuries : {}\".format(heat_trainner.shape))"
   ]
  },
  {
   "cell_type": "code",
   "execution_count": 56,
   "id": "81b4e0dd",
   "metadata": {},
   "outputs": [],
   "source": [
    "#this is based on the table from the logistic regression code displayed.\n",
    "data=heat_trainner.drop(columns=['StudyID' , 'A_Date', 'heat_exh', 'heat_other', 'HYPONATREMIA' , 'AGE_6_GROUP', 'AGE_GROUP', \n",
    "                                 'heat_syn_cramps', 'LOS', 'Diagnosis__Admitting', 'DX1', 'DX2', 'DX3', 'DX4', 'heat_group', \n",
    "                                 'ADMITTING_heat','FY','heat_stroke','LOS_3_GROUP', 'Disposition_Status'])"
   ]
  },
  {
   "cell_type": "code",
   "execution_count": 57,
   "id": "99aa365f",
   "metadata": {},
   "outputs": [
    {
     "data": {
      "text/plain": [
       "SEX            0\n",
       "BRANCH         0\n",
       "RACE_CODE      0\n",
       "POSITION       0\n",
       "RHABDO         0\n",
       "AGE_4_GROUP    0\n",
       "STATE          0\n",
       "dtype: int64"
      ]
     },
     "execution_count": 57,
     "metadata": {},
     "output_type": "execute_result"
    }
   ],
   "source": [
    "data.isnull().sum()\n",
    "data.isna().sum()"
   ]
  },
  {
   "cell_type": "code",
   "execution_count": 67,
   "id": "e50c273d",
   "metadata": {},
   "outputs": [
    {
     "data": {
      "text/plain": [
       "1     1005\n",
       "2      921\n",
       "3      852\n",
       "4      732\n",
       "23     543\n",
       "5      392\n",
       "6      380\n",
       "7      374\n",
       "8      305\n",
       "9      296\n",
       "10     248\n",
       "11     221\n",
       "12     211\n",
       "13     197\n",
       "14     114\n",
       "15      96\n",
       "16      96\n",
       "17      92\n",
       "18      66\n",
       "19      47\n",
       "20      33\n",
       "21      28\n",
       "22       6\n",
       "Name: STATE, dtype: int64"
      ]
     },
     "execution_count": 67,
     "metadata": {},
     "output_type": "execute_result"
    }
   ],
   "source": [
    "data['STATE'].value_counts()"
   ]
  },
  {
   "cell_type": "code",
   "execution_count": 59,
   "id": "c103ac2b",
   "metadata": {},
   "outputs": [
    {
     "data": {
      "image/png": "[encoded data removed]",
      "text/plain": [
       "<Figure size 1200x1200 with 1 Axes>"
      ]
     },
     "metadata": {},
     "output_type": "display_data"
    }
   ],
   "source": [
    "plt.figure(figsize=(12, 12))\n",
    "sb.heatmap(data.corr() > 0.7, annot=True, cbar=False)\n",
    "plt.show()"
   ]
  },
  {
   "cell_type": "code",
   "execution_count": 60,
   "id": "410eef8d",
   "metadata": {},
   "outputs": [],
   "source": [
    "\n",
    "\n",
    "data\n",
    "x_train = data.iloc[:,:-1]\n",
    "y_train = data.RHABDO\n",
    "\n",
    "x_test = data.iloc[:,:-1]\n",
    "y_test = data.RHABDO\n",
    "#X = data.iloc[:, 1:5].values\n",
    "#Y = data.iloc[:, 5].values"
   ]
  },
  {
   "cell_type": "code",
   "execution_count": 61,
   "id": "ce66f231",
   "metadata": {},
   "outputs": [],
   "source": [
    "norm = MinMaxScaler()\n",
    "x_train = norm.fit_transform(x_train)\n",
    "x_test = norm.transform(x_test)"
   ]
  },
  {
   "cell_type": "code",
   "execution_count": 62,
   "id": "8cc46c81",
   "metadata": {},
   "outputs": [
    {
     "name": "stdout",
     "output_type": "stream",
     "text": [
      "LogisticRegression() : \n",
      "Training Accuracy :  1.0\n",
      "Validation Accuracy :  1.0\n",
      "\n"
     ]
    }
   ],
   "source": [
    "models = LogisticRegression()\n",
    "\n",
    "\n",
    "models.fit(x_train, y_train)\n",
    "\n",
    "print(f'{models} : ')\n",
    "print('Training Accuracy : ', metrics.roc_auc_score(y_train, models.predict(x_train)))\n",
    "print('Validation Accuracy : ', metrics.roc_auc_score(\n",
    "y_test, models.predict(x_test)))\n",
    "print()\n"
   ]
  },
  {
   "cell_type": "code",
   "execution_count": 63,
   "id": "bed7b456",
   "metadata": {},
   "outputs": [
    {
     "name": "stdout",
     "output_type": "stream",
     "text": [
      "              precision    recall  f1-score   support\n",
      "\n",
      "           0       1.00      1.00      1.00      4212\n",
      "           1       1.00      1.00      1.00      3043\n",
      "\n",
      "    accuracy                           1.00      7255\n",
      "   macro avg       1.00      1.00      1.00      7255\n",
      "weighted avg       1.00      1.00      1.00      7255\n",
      "\n"
     ]
    }
   ],
   "source": [
    "print(metrics.classification_report(y_test,models.predict(x_test)))"
   ]
  },
  {
   "cell_type": "code",
   "execution_count": 64,
   "id": "ed02aa4a",
   "metadata": {},
   "outputs": [],
   "source": [
    "import pickle\n",
    "with open('file_heat.pkl','wb') as file:\n",
    "    pickle.dump(models,file)"
   ]
  },
  {
   "cell_type": "code",
   "execution_count": 66,
   "id": "37c03ea4",
   "metadata": {},
   "outputs": [
    {
     "data": {
      "text/plain": [
       "array([1], dtype=int64)"
      ]
     },
     "execution_count": 66,
     "metadata": {},
     "output_type": "execute_result"
    }
   ],
   "source": [
    "models.predict([[2, 3, 5, 4, 1, 2]])"
   ]
  },
  {
   "cell_type": "code",
   "execution_count": null,
   "id": "851c869f",
   "metadata": {},
   "outputs": [],
   "source": []
  }
 ],
 "metadata": {
  "kernelspec": {
   "display_name": "Python 3 (ipykernel)",
   "language": "python",
   "name": "python3"
  },
  "language_info": {
   "codemirror_mode": {
    "name": "ipython",
    "version": 3
   },
   "file_extension": ".py",
   "mimetype": "text/x-python",
   "name": "python",
   "nbconvert_exporter": "python",
   "pygments_lexer": "ipython3",
   "version": "3.11.3"
  }
 },
 "nbformat": 4,
 "nbformat_minor": 5
}
